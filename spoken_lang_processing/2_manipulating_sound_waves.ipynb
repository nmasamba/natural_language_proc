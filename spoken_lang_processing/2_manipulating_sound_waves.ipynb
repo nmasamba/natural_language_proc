{
 "cells": [
  {
   "cell_type": "code",
   "execution_count": 1,
   "metadata": {},
   "outputs": [],
   "source": [
    "\n",
    "import aifc\n",
    "import numpy as np\n",
    "import matplotlib.pyplot as plt"
   ]
  },
  {
   "cell_type": "code",
   "execution_count": 2,
   "metadata": {},
   "outputs": [],
   "source": [
    "sound_file = aifc.open('sample_recordingwav.aif', 'rb')"
   ]
  },
  {
   "cell_type": "code",
   "execution_count": 3,
   "metadata": {},
   "outputs": [
    {
     "name": "stdout",
     "output_type": "stream",
     "text": [
      "b'\\xff\\xd3\\xff\\xd3\\xff\\xd8\\xff\\xd8\\x00\\x08\\x00\\x08\\xff\\xf7\\xff\\xf7\\xff\\xf3\\xff\\xf3\\xff\\xee\\xff\\xee\\xff\\xe6\\xff\\xe6\\xff\\xed\\xff\\xed\\x00\\x11\\x00\\x11\\xff\\xf0\\xff\\xf0\\xff\\xe0\\xff\\xe0\\x00\\x0b\\x00\\x0b\\x00\\x19\\x00\\x19\\x00\\x18\\x00\\x18\\x00\"\\x00\"\\x00)\\x00)\\x00\\x03\\x00\\x03\\xff\\xf8\\xff\\xf8\\xff\\xe9\\xff\\xe9\\xff\\xd2\\xff\\xd2\\xff\\xd6\\xff\\xd6\\xff\\xfd\\xff\\xfd\\x00\\x07\\x00\\x07\\xff\\xd7\\xff\\xd7\\xff\\xf4\\xff\\xf4'\n"
     ]
    }
   ],
   "source": [
    "# View the AIFF file in byte form\n",
    "sound_wave =  sound_file.readframes(-1)\n",
    "print(sound_wave[:100])"
   ]
  },
  {
   "cell_type": "code",
   "execution_count": 4,
   "metadata": {},
   "outputs": [
    {
     "name": "stdout",
     "output_type": "stream",
     "text": [
      "44100\n"
     ]
    }
   ],
   "source": [
    "\n",
    "# View number of frames (pieces of information) per second\n",
    "# Gives us an idea of how large the soundwave is\n",
    "# This file's frame rate (frequency) is 44kHz and it is approx. 17 seconds long = 749,700 pieces of information! \n",
    "# We only printed out the first 100 pieces of information above\n",
    "frame_rate = sound_file.getframerate()\n",
    "print(frame_rate)"
   ]
  },
  {
   "cell_type": "code",
   "execution_count": 5,
   "metadata": {},
   "outputs": [
    {
     "name": "stdout",
     "output_type": "stream",
     "text": [
      "[-11265 -11265  -9985  -9985   2048   2048  -2049  -2049  -3073  -3073\n",
      "  -4353  -4353  -6401  -6401  -4609  -4609   4352   4352  -3841  -3841\n",
      "  -7937  -7937   2816   2816   6400   6400   6144   6144   8704   8704\n",
      "  10496  10496    768    768  -1793  -1793  -5633  -5633 -11521 -11521\n",
      " -10497 -10497   -513   -513   1792   1792 -10241 -10241  -2817  -2817\n",
      "   6656   6656  11264  11264  14080  14080   8192   8192  15872  15872\n",
      "  15104  15104   3840   3840  -1281  -1281  -8449  -8449  -6145  -6145\n",
      "     -1     -1   2048   2048  -2305  -2305  -1793  -1793  -4353  -4353\n",
      "  -1025  -1025   9472   9472   2304   2304   7424   7424  13824  13824\n",
      "   4096   4096    768    768   5888   5888   1024   1024   2048   2048]\n"
     ]
    }
   ],
   "source": [
    "\n",
    "# Convert from byte form to integers\n",
    "sound_signal = np.frombuffer(sound_wave, dtype=np.int16)\n",
    "print(sound_signal[:100])"
   ]
  },
  {
   "cell_type": "code",
   "execution_count": 6,
   "metadata": {},
   "outputs": [
    {
     "name": "stdout",
     "output_type": "stream",
     "text": [
      "776730\n"
     ]
    }
   ],
   "source": [
    "\n",
    "# This now becomes easy: check length of signal\n",
    "signal_length = sound_signal.size\n",
    "print(signal_length)"
   ]
  },
  {
   "cell_type": "code",
   "execution_count": 7,
   "metadata": {},
   "outputs": [
    {
     "name": "stdout",
     "output_type": "stream",
     "text": [
      "[0.00000000e+00 2.26757662e-05 4.53515323e-05 6.80272985e-05\n",
      " 9.07030646e-05 1.13378831e-04 1.36054597e-04 1.58730363e-04\n",
      " 1.81406129e-04 2.04081895e-04 2.26757662e-04 2.49433428e-04\n",
      " 2.72109194e-04 2.94784960e-04 3.17460726e-04 3.40136492e-04\n",
      " 3.62812258e-04 3.85488025e-04 4.08163791e-04 4.30839557e-04\n",
      " 4.53515323e-04 4.76191089e-04 4.98866855e-04 5.21542622e-04\n",
      " 5.44218388e-04 5.66894154e-04 5.89569920e-04 6.12245686e-04\n",
      " 6.34921452e-04 6.57597219e-04 6.80272985e-04 7.02948751e-04\n",
      " 7.25624517e-04 7.48300283e-04 7.70976049e-04 7.93651815e-04\n",
      " 8.16327582e-04 8.39003348e-04 8.61679114e-04 8.84354880e-04\n",
      " 9.07030646e-04 9.29706412e-04 9.52382179e-04 9.75057945e-04\n",
      " 9.97733711e-04 1.02040948e-03 1.04308524e-03 1.06576101e-03\n",
      " 1.08843678e-03 1.11111254e-03 1.13378831e-03 1.15646407e-03\n",
      " 1.17913984e-03 1.20181561e-03 1.22449137e-03 1.24716714e-03\n",
      " 1.26984290e-03 1.29251867e-03 1.31519444e-03 1.33787020e-03\n",
      " 1.36054597e-03 1.38322174e-03 1.40589750e-03 1.42857327e-03\n",
      " 1.45124903e-03 1.47392480e-03 1.49660057e-03 1.51927633e-03\n",
      " 1.54195210e-03 1.56462786e-03 1.58730363e-03 1.60997940e-03\n",
      " 1.63265516e-03 1.65533093e-03 1.67800670e-03 1.70068246e-03\n",
      " 1.72335823e-03 1.74603399e-03 1.76870976e-03 1.79138553e-03\n",
      " 1.81406129e-03 1.83673706e-03 1.85941282e-03 1.88208859e-03\n",
      " 1.90476436e-03 1.92744012e-03 1.95011589e-03 1.97279166e-03\n",
      " 1.99546742e-03 2.01814319e-03 2.04081895e-03 2.06349472e-03\n",
      " 2.08617049e-03 2.10884625e-03 2.13152202e-03 2.15419778e-03\n",
      " 2.17687355e-03 2.19954932e-03 2.22222508e-03 2.24490085e-03]\n"
     ]
    }
   ],
   "source": [
    "\n",
    "# Find the sound wave time stamps. We'll use these to visualise the sound wave.\n",
    "time_stamps_wave = np.linspace(start=0, stop=signal_length/frame_rate, num=signal_length)\n",
    "print(time_stamps_wave[:100])"
   ]
  },
  {
   "cell_type": "code",
   "execution_count": 8,
   "metadata": {},
   "outputs": [
    {
     "data": {
      "image/png": "[encoded data removed]",
      "text/plain": [
       "<Figure size 432x288 with 1 Axes>"
      ]
     },
     "metadata": {
      "needs_background": "light"
     },
     "output_type": "display_data"
    }
   ],
   "source": [
    "\n",
    "# Plot the sound wave\n",
    "plt.plot(time_stamps_wave, sound_signal)\n",
    "plt.xlabel('Time (seconds)')\n",
    "plt.ylabel('Amplitude')\n",
    "plt.title('Sound Wave')\n",
    "plt.show()"
   ]
  },
  {
   "cell_type": "code",
   "execution_count": null,
   "metadata": {},
   "outputs": [],
   "source": []
  }
 ],
 "metadata": {
  "kernelspec": {
   "display_name": "Rules vs Random (PhD)",
   "language": "python",
   "name": "rules_vs_random"
  },
  "language_info": {
   "codemirror_mode": {
    "name": "ipython",
    "version": 3
   },
   "file_extension": ".py",
   "mimetype": "text/x-python",
   "name": "python",
   "nbconvert_exporter": "python",
   "pygments_lexer": "ipython3",
   "version": "3.7.11"
  }
 },
 "nbformat": 4,
 "nbformat_minor": 2
}
